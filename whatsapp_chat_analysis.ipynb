{
 "cells": [
  {
   "cell_type": "code",
   "execution_count": null,
   "metadata": {},
   "outputs": [],
   "source": []
  },
  {
   "cell_type": "code",
   "execution_count": 1,
   "metadata": {},
   "outputs": [],
   "source": [
    "# install these libraries before proceeding\n",
    "# !pip3 install numpy\n",
    "# !pip3 install pandas\n",
    "# !pip3 install wordcloud\n",
    "# !pip3 install nltk\n",
    "# !pip3 install matplotlib\n",
    "# !pip3 install nltk"
   ]
  },
  {
   "cell_type": "code",
   "execution_count": 2,
   "metadata": {
    "colab": {},
    "colab_type": "code",
    "id": "SYr7mHPKEXBW"
   },
   "outputs": [],
   "source": [
    "import pandas as pd\n",
    "import numpy as np\n",
    "import nltk\n",
    "from nltk.corpus import stopwords\n",
    "from wordcloud import WordCloud\n",
    "import matplotlib.pyplot as plt\n",
    "from IPython.display import display, HTML\n",
    "from collections import Counter\n",
    "from collections import OrderedDict\n",
    "import re\n",
    "import os"
   ]
  },
  {
   "cell_type": "code",
   "execution_count": 3,
   "metadata": {},
   "outputs": [
    {
     "name": "stderr",
     "output_type": "stream",
     "text": [
      "[nltk_data] Downloading package stopwords to\n",
      "[nltk_data]     C:\\Users\\lenovo\\AppData\\Roaming\\nltk_data...\n",
      "[nltk_data]   Package stopwords is already up-to-date!\n"
     ]
    },
    {
     "data": {
      "text/plain": [
       "True"
      ]
     },
     "execution_count": 3,
     "metadata": {},
     "output_type": "execute_result"
    }
   ],
   "source": [
    "# uncomment the below line to download english stopwords\n",
    "nltk.download('stopwords')"
   ]
  },
  {
   "cell_type": "markdown",
   "metadata": {},
   "source": [
    "## Util "
   ]
  },
  {
   "cell_type": "code",
   "execution_count": 4,
   "metadata": {},
   "outputs": [],
   "source": [
    "def custom_display(txt):\n",
    "    display(HTML(\"<h2>\" + txt + \"</h2>\"))\n",
    "    print(\"_____\"*23)\n",
    "\n",
    "def sort_by_values(data, reverse=True):\n",
    "    return OrderedDict(sorted(data.items(), key=lambda t: t[1], reverse=True))\n",
    "\n",
    "def plot_bar_chart(total_items, y_values, x_values, title, xlabel, ylabel, rotation=0):\n",
    "    plt.figure(figsize=(18,10))\n",
    "    plt.bar(np.arange(total_items), y_values,color=['violet','indigo','blue','green', 'yellow', 'orange','red' ])\n",
    "    plt.xticks(np.arange(total_items),x_values,rotation=rotation)\n",
    "    plt.title(title)\n",
    "    plt.xlabel(xlabel)\n",
    "    plt.ylabel(ylabel)\n",
    "    plt.show()\n",
    "\n",
    "def get_regex_user_name(name):\n",
    "    return name.replace(' ', '\\s').replace('|', '\\|')"
   ]
  },
  {
   "cell_type": "code",
   "execution_count": 5,
   "metadata": {},
   "outputs": [],
   "source": [
    "# if you are using google colab, then import your WhatsApp txt file from following code\n",
    "# from google.colab import files\n",
    "\n",
    "# uploaded = files.upload()\n",
    "\n",
    "# for fn in uploaded.keys():\n",
    "#  print('User uploaded file \"{name}\" with length {length} bytes'.format(\n",
    "#      name=fn, length=len(uploaded[fn])))\n",
    "\n",
    "# uncomment the following lines to see the files in the current directory\n",
    "# files.os.listdir()"
   ]
  },
  {
   "cell_type": "markdown",
   "metadata": {
    "colab": {},
    "colab_type": "code",
    "id": "X5Xwt3Fqmb6A"
   },
   "source": [
    "##input "
   ]
  },
  {
   "cell_type": "code",
   "execution_count": 6,
   "metadata": {
    "colab": {},
    "colab_type": "code",
    "id": "X5Xwt3Fqmb6A"
   },
   "outputs": [],
   "source": [
    "file_name = 'amitchat.txt' # replace the file name by your file name/path\n",
    "fh = open(file_name,\"r\",encoding=\"utf8\")\n",
    "data = fh.read()\n",
    "is_iphone = data[0] == '['\n",
    "if is_iphone:\n",
    "    data = data.replace('\\xa0', ' ')    \n"
   ]
  },
  {
   "cell_type": "markdown",
   "metadata": {
    "colab_type": "text",
    "id": "zQ6nhpZATU-6"
   },
   "source": [
    "## Getting datetime & user name from the text file"
   ]
  },
  {
   "cell_type": "code",
   "execution_count": 7,
   "metadata": {},
   "outputs": [],
   "source": [
    "# various time format\n",
    "# iPhone\n",
    "    # [14/06/18, 12:47:32] ‪user_name‬: message\n",
    "    # [14/06/18, 3:25:32 PM] ‪user_name: message\n",
    "# Android \n",
    "    # 19/02/18, 10:27 PM - user_name: message\n",
    "    # 05/11/17, 09:33 - user_name: message"
   ]
  },
  {
   "cell_type": "code",
   "execution_count": 8,
   "metadata": {},
   "outputs": [],
   "source": [
    "def create_date_time_user_name(time_and_names, is_24_hour_format):\n",
    "    date_time_user_name = [] # will be array of ('19/02/18', '23:28:00', 'Kalsi')\n",
    "    if is_24_hour_format:\n",
    "        if is_iphone:\n",
    "            # time_and_names is array of type \"[02/07/18, 12:59:07] user_name:\"\n",
    "            for time_name in time_and_names:\n",
    "                time_name = time_name.split(']')\n",
    "                date_time = time_name[0][1:] #02/07/18, 12:59:07\n",
    "                date_ = date_time.split(',')[0].strip() #02/07/18, dd/mm/yy\n",
    "                time_ = date_time.split(',')[1].strip() #12:59:07\n",
    "                time_ = time_.split(':')[0] + ':' +time_.split(':')[1]#12:59\n",
    "                user_name = time_name[1][:-1].strip() # user_name\n",
    "                date_time_user_name.append((date_,time_,user_name))\n",
    "        else:\n",
    "            # time_and_names is array of type '02/11/17, 10:52 - user_name:'\n",
    "            for time_name in time_and_names:\n",
    "                time_name = time_name.split(' - ')# ['02/11/17, 10:52', 'user_name:']\n",
    "                date_time = time_name[0] #02/07/18, 12:59\n",
    "                date_ = date_time.split(', ')[0].strip() #02/07/18\n",
    "                time_ = date_time.split(', ')[1].strip() #12:59\n",
    "                user_name = time_name[1][:-1].strip() # user_name\n",
    "                date_time_user_name.append((date_,time_,user_name))    \n",
    "    else:\n",
    "        if is_iphone:\n",
    "            # [14/06/18, 3:25:32 PM] \\u202a+91 98801 23040\\u202c:', 'PM')\n",
    "            for time_name, meridian in time_and_names:\n",
    "                date_time = time_name.split('] ')[0] # [14/06/18, 3:25:32 PM\n",
    "                name_ = time_name.split('] ')[1][:-1] #user_name\n",
    "                date_ = date_time.split(', ')[0][1:]# 19/02/18\n",
    "                time_ = date_time.split(', ')[1].split(' ')[0] # 3:25:32\n",
    "                time_ = time_.split(':')[0] + ':' +time_.split(':')[1]#3:25\n",
    "                hour_ = int(time_.split(':')[0])\n",
    "                minute_ = time_.split(':')[1]\n",
    "                if (meridian == 'PM') and (hour_ != 12):\n",
    "                    hour_ += 12\n",
    "                if (meridian == 'AM') and (hour_ == 12):\n",
    "                    hour_=0\n",
    "#                 hour_ -= 1\n",
    "                if hour_ < 10:\n",
    "                    hour_ = \"0\"+str(hour_)\n",
    "                final_time = str(hour_) + \":\" + str(minute_)\n",
    "                date_time_user_name.append((date_,final_time, name_ ))\n",
    "        else:\n",
    "            # '19/02/18, 9:44 PM - user_name:', 'PM')\n",
    "            for time_name, meridian in time_and_names:\n",
    "                date_time = time_name.split(' - ')[0] # 19/02/18, 9:44 PM\n",
    "                name_ = time_name.split(' - ')[1][:-1] # remove the last character i.e, ':' to get the user_name\n",
    "                date_ = date_time.split(', ')[0]# 19/02/18\n",
    "                time_ = date_time.split(', ')[1].split(' ')[0] # 9:44\n",
    "                hour_ = int(time_.split(':')[0])\n",
    "                minute_ = time_.split(':')[1]\n",
    "                if (meridian == 'PM') and (hour_ != 12):\n",
    "                    hour_ += 12\n",
    "                if (meridian == 'AM') and (hour_ == 12):\n",
    "                    hour_=0                    \n",
    "#                 hour_ -= 1\n",
    "                if hour_ < 10:\n",
    "                    hour_ = \"0\"+str(hour_)\n",
    "                final_time = str(hour_) + \":\" + str(minute_)\n",
    "                date_time_user_name.append((date_,final_time, name_ ))\n",
    "    return date_time_user_name"
   ]
  },
  {
   "cell_type": "code",
   "execution_count": 9,
   "metadata": {},
   "outputs": [],
   "source": [
    "def get_date_time_user_name_data():\n",
    "    is_24_hour_format = False\n",
    "    if is_iphone:\n",
    "        # check for AM/PM\n",
    "        time_and_names = re.findall(r'(\\[\\d{1,2}/\\d{1,2}/\\d{1,2},\\s\\d{1,2}:\\d{1,2}:\\d{1,2}\\s(PM|AM)\\]\\s.*?:)', data)[1:]\n",
    "        if len(time_and_names) == 0:\n",
    "            is_24_hour_format = True\n",
    "            time_and_names = re.findall(r'(\\[\\d{1,2}/\\d{1,2}/\\d{1,2},\\s\\d{1,2}:\\d{1,2}:\\d{1,2}\\]\\s.*?:)', data)[1:]\n",
    "    else:\n",
    "        # check for AM/PM\n",
    "        time_and_names = re.findall(r'(\\d{1,2}/\\d{1,2}/\\d{1,2},\\s\\d{1,2}:\\d{1,2}\\s(PM|AM)\\s-\\s.*?:)', data)\n",
    "        if len(time_and_names) == 0:\n",
    "            is_24_hour_format = True\n",
    "            time_and_names = re.findall(r'(\\d{1,2}/\\d{1,2}/\\d{1,2},\\s\\d{1,2}:\\d{1,2}\\s-\\s.*?:)', data)\n",
    "    return create_date_time_user_name(time_and_names, is_24_hour_format)"
   ]
  },
  {
   "cell_type": "code",
   "execution_count": 10,
   "metadata": {},
   "outputs": [],
   "source": [
    "def get_message_timings():\n",
    "    users = {}\n",
    "    message_timings = {}\n",
    "    date_time_user_name = get_date_time_user_name_data()\n",
    "    for date_, time_, name_ in date_time_user_name:\n",
    "        name_ = name_.strip('\\u202c').strip('\\u202a')\n",
    "        if name_ in users.keys():\n",
    "            users[name_]+=1\n",
    "        else:\n",
    "            users[name_]=1\n",
    "        hour = time_.split(':')[0]\n",
    "        if hour not in message_timings.keys():\n",
    "            message_timings[hour] = 0\n",
    "        message_timings[hour] += 1\n",
    "    return users, message_timings"
   ]
  },
  {
   "cell_type": "code",
   "execution_count": 11,
   "metadata": {},
   "outputs": [],
   "source": [
    "users,message_timings = get_message_timings()"
   ]
  },
  {
   "cell_type": "markdown",
   "metadata": {},
   "source": [
    "## Peak hour of chat"
   ]
  },
  {
   "cell_type": "code",
   "execution_count": 12,
   "metadata": {},
   "outputs": [
    {
     "data": {
      "image/png": "[encoded data removed]",
      "text/plain": [
       "<Figure size 1800x1000 with 1 Axes>"
      ]
     },
     "metadata": {},
     "output_type": "display_data"
    },
    {
     "name": "stdout",
     "output_type": "stream",
     "text": [
      "[4535, 1636, 726, 34, 5, 1, 19, 113, 218, 233, 508, 558, 479, 428, 442, 583, 294, 124, 682, 1971, 2971, 1716, 2590, 3345]\n"
     ]
    }
   ],
   "source": [
    "hours = sorted(message_timings.keys())\n",
    "message_counts = [message_timings[hour] for hour in hours]\n",
    "plot_bar_chart(len(hours), message_counts, hours, 'Number of Messages in a given hour', '24 hour format', 'Messages count')\n",
    "# custom_display(\"Chats will be more during \" + str(hours[np.argmax(message_counts)]) + \":00 hours\")\n",
    "print(message_counts)"
   ]
  },
  {
   "cell_type": "markdown",
   "metadata": {},
   "source": [
    "# Frequency of messages by Users"
   ]
  },
  {
   "cell_type": "code",
   "execution_count": 13,
   "metadata": {},
   "outputs": [],
   "source": [
    "users_df = pd.DataFrame({'id': np.arange(len(users.keys())), 'user':list(users.keys()), 'messages':list(users.values())})\n",
    "users_df=users_df.sort_values(['messages'], ascending=False)\n",
    "total_active_users = users_df.shape[0]"
   ]
  },
  {
   "cell_type": "code",
   "execution_count": 14,
   "metadata": {},
   "outputs": [],
   "source": [
    "total_msgs = users_df.messages.sum(axis=0)\n",
    "if is_iphone:\n",
    "    total_medias = len(re.findall(r'image omitted', data)) + len(re.findall(r'video omitted', data))\n",
    "else:\n",
    "    total_medias = len(re.findall(r'<Media omitted>', data))\n",
    "hyper_links = re.findall(r'(http[s]?://[^\\s\\n]+)', data)"
   ]
  },
  {
   "cell_type": "code",
   "execution_count": 15,
   "metadata": {},
   "outputs": [
    {
     "data": {
      "image/png": "[encoded data removed]",
      "text/plain": [
       "<Figure size 1800x1000 with 1 Axes>"
      ]
     },
     "metadata": {},
     "output_type": "display_data"
    },
    {
     "data": {
      "text/html": [
       "<h2>Amit Srm Tab ≧ messaged highest number of times with 13707 messages which is 56.61% of the total messages</h2>"
      ],
      "text/plain": [
       "<IPython.core.display.HTML object>"
      ]
     },
     "metadata": {},
     "output_type": "display_data"
    },
    {
     "name": "stdout",
     "output_type": "stream",
     "text": [
      "___________________________________________________________________________________________________________________\n"
     ]
    }
   ],
   "source": [
    "number_of_users_to_be_shown = 20\n",
    "message_count_by_users = users_df.messages[:number_of_users_to_be_shown].tolist()\n",
    "user_names = users_df.user[:number_of_users_to_be_shown].tolist()\n",
    "number_of_users_to_be_shown = min(number_of_users_to_be_shown, total_active_users)\n",
    "# user_names = []\n",
    "# for i in range(number_of_users_to_be_shown):\n",
    "#     user_names.append('user'+str(i))\n",
    "plot_bar_chart(number_of_users_to_be_shown, message_count_by_users, user_names, 'Users Vs Numbers of Messages', 'Users', 'Messages count', rotation=60)\n",
    "# custom_display(\"User X\" + \" messaged highest number of times with \"+ str(users_df['messages'].iloc[0])+ \" messages which is \"+ str(round((users_df['messages'].iloc[0]/total_msgs)*100.0,2))+\"% of the total messages\")\n",
    "custom_display(users_df['user'].iloc[0] + \" messaged highest number of times with \"+ str(users_df['messages'].iloc[0])+ \" messages which is \"+ str(round((users_df['messages'].iloc[0]/total_msgs)*100.0,2))+\"% of the total messages\")"
   ]
  },
  {
   "cell_type": "code",
   "execution_count": 16,
   "metadata": {},
   "outputs": [
    {
     "data": {
      "text/html": [
       "<h2>Total active users: 2</h2>"
      ],
      "text/plain": [
       "<IPython.core.display.HTML object>"
      ]
     },
     "metadata": {},
     "output_type": "display_data"
    },
    {
     "name": "stdout",
     "output_type": "stream",
     "text": [
      "___________________________________________________________________________________________________________________\n"
     ]
    },
    {
     "data": {
      "text/html": [
       "<h2>Total messages: 24211</h2>"
      ],
      "text/plain": [
       "<IPython.core.display.HTML object>"
      ]
     },
     "metadata": {},
     "output_type": "display_data"
    },
    {
     "name": "stdout",
     "output_type": "stream",
     "text": [
      "___________________________________________________________________________________________________________________\n"
     ]
    },
    {
     "data": {
      "text/html": [
       "<h2>Total medias shared: 225</h2>"
      ],
      "text/plain": [
       "<IPython.core.display.HTML object>"
      ]
     },
     "metadata": {},
     "output_type": "display_data"
    },
    {
     "name": "stdout",
     "output_type": "stream",
     "text": [
      "___________________________________________________________________________________________________________________\n"
     ]
    },
    {
     "data": {
      "text/html": [
       "<h2>Total  hyper links: 116</h2>"
      ],
      "text/plain": [
       "<IPython.core.display.HTML object>"
      ]
     },
     "metadata": {},
     "output_type": "display_data"
    },
    {
     "name": "stdout",
     "output_type": "stream",
     "text": [
      "___________________________________________________________________________________________________________________\n",
      "https://t.me/AbdulBariAllCourse\n",
      "https://t.me/AbdulBariAllCourse/4\n",
      "https://t.me/AbdulBariAllCourse\n",
      "https://youtube.com/playlist?list=PLzMcBGfZo4-lmGC8VW0iu6qfMHjy7gLQ3\n",
      "https://youtube.com/playlist?list=PLQSmIhc0GVPPhpBAC3y6xChtOz3RJ8abN\n",
      "https://youtube.com/playlist?list=PLwoh6bBAszPrES-EOajos_E9gvRbL27wz\n",
      "https://youtu.be/BZqzhmlTkAc\n",
      "https://github.com/pranjul-gh/Simple-Notes-App/blob/master/PREVIEW%20of%20simple-notes.gif\n",
      "https://gssoc.girlscript.tech/\n",
      "https://chat.whatsapp.com/I2QyMyrjqNMCBFhZPACMSe\n",
      "https://youtube.com/playlist?list=PL-JvKqQx2AtdhlS7j6jFoEnxmUEEsH9KH\n",
      "https://neetcode.io/courses/dsa-for-beginners/3\n",
      "https://takeuforward.org/strivers-a2z-dsa-course/strivers-a2z-dsa-course-sheet-2/\n",
      "https://teachyourselfcrypto.com/\n",
      "https://university.alchemy.com/\n",
      "https://buildspace.so/\n",
      "https://leetcode.com/problems/reverse-integer/\n",
      "https://leetcode.com/problems/roman-to-integer/\n",
      "https://leetcode.com/problems/sum-multiples/\n",
      "https://leetcode.com/problems/single-number/\n",
      "https://leetcode.com/problems/concatenation-of-array/\n",
      "https://leetcode.com/problems/climbing-stairs/\n",
      "https://leetcode.com/problems/k-items-with-the-maximum-sum/description/\n",
      "https://leetcode.com/problems/divisor-game/\n",
      "https://twitter.com/irenicraj/status/1673120368914219009?t=kbZH-00lCN3dewuZgHLhoA&s=08\n",
      "https://youtube.com/playlist?list=PL-JvKqQx2AtdhlS7j6jFoEnxmUEEsH9KH\n",
      "https://youtube.com/playlist?list=PLKnIA16_Rmvbr7zKYQuBfsVkjoLcJgxHH\n",
      "https://twitter.com/irenicraj/status/1675555559817482241?t=bx_eMxeB7WY5xbhyqsdreA&s=08\n",
      "https://youtube.com/playlist?list=PL-vW0Ma8tHcANBd5TKoDOJCTrMWVkhL81\n",
      "https://youtube.com/playlist?list=PL-JvKqQx2Ate6Ii3E0DMtkP9DwAB3NNWY\n",
      "https://youtube.com/playlist?list=PL-JvKqQx2AtdhlS7j6jFoEnxmUEEsH9KH\n",
      "https://youtube.com/playlist?list=PLmJzSa3IrL45BcQLRBpodKmT3cueaWpRE\n",
      "https://www.youtube.com/playlist?list=PL5vhyNmOQ5OSOSy63jf7tStFM2p78aUS4\n",
      "https://drive.google.com/drive/folders/1vHQkAe-420MqOCQyHRjihVAkcslfnbYm\n",
      "https://youtu.be/naXf8R1aOik\n",
      "https://youtube.com/playlist?list=PL5vhyNmOQ5OSOSy63jf7tStFM2p78aUS4\n",
      "https://drive.google.com/drive/folders/1vHQkAe-420MqOCQyHRjihVAkcslfnbYm\n",
      "https://dl.flipkart.com/s/L!JpDXuuuN\n",
      "https://youtu.be/GqC8y9naFF0\n",
      "https://youtu.be/42zI_Hu1yWI\n",
      "https://www.youtube.com/playlist?list=PL_c9BZzLwBRJVJsIfe97ey45V4LP_HXiG\n",
      "http://bit.ly/3OIDmvN\n",
      "https://www.guvi.in/courses/?current_tab=myCourses\n",
      "https://forum.guvi.in/posts/2195/solved-all-python-questions-solved.\n",
      "https://wormhole.app/yOA5b#9bD2IZNB7uCWOThaNnA24A\n",
      "https://chat.whatsapp.com/LbhWbbRHENU8becI3jbmGq\n",
      "https://images.collegedunia.com/public/image/GATE_2024_Computer_Science_and_Information_Technology_CS_Syllabus_bd0e9b1f8be84a77ef296ce83781f87d.pdf\n",
      "https://images.collegedunia.com/public/image/CS_GATE2023_2_9dcb909fba2093af1145bcf9452ada3c.pdf\n",
      "https://github.com/campusx-official/ML-Roadmap-for-2022/blob/main/README.md\n",
      "https://peerlist.io/hackathon\n",
      "https://youtu.be/K-jVPSq5Vps?si=SIVmgFXpEWqWZW52\n",
      "https://www.freesexkahani.com/bhabhi-sex/cheat-wife-porn-kahani/\n",
      "https://whatsapp.com/channel/0029Va52XY1FMqrakG7RsO3A\n",
      "https://x.com/PrayagDwivedi11/status/1705637127638393054?t=DC0OTBssIYFHIvVHjy79IQ&s=08\n",
      "https://images.app.goo.gl/kkvkwbc3kn7e2wrA8\n",
      "https://youtu.be/GnkZKex6KYQ?si=RbM-NfgHhHKGYGZT\n",
      "http://www.abhyaashometutorials.com/\n",
      "https://reddit.com/r/sunraybee/s/EvN9Yy0EJn\n",
      "https://www.google.com/search?q=GST+invoice&client=ms-android-oppo-rvo3&sca_esv=571506520&tbm=isch&prmd=insv&source=lnms&sa=X&ved=2ahUKEwjKgZP0nuOBAxUdxjgGHbHbBhQQ_AUoAXoECAQQAQ#imgrc=fXeihZJVtwH7pM\n",
      "https://youtu.be/c6SI7lySdvg?si=XRbs2hPYb9tB5rRu\n",
      "https://youtu.be/k84QgMZBtHY?si=oqLQS922a1kxztOu\n",
      "https://www.youtube.com/playlist?list=PL-JvKqQx2Atd--1Gs3WB8nmWOWRbEM7WW\n",
      "https://youtube.com/shorts/p73yaWwi9wA?si=WkDRyOcJMbCS_Eq_\n",
      "https://mamaearth.in/product/bhringamla-hair-oil-with-bhringraj-amla-for-intense-hair-treatment-250ml\n",
      "https://www.flipkart.com/man-matters-dht-blocker-anti-hair-fall-shampoo-biotin-caffeine-argan-oil-saw-palmetto/p/itma97574a6d9e22?pid=SMPG23CHHTQHY4BA&lid=LSTSMPG23CHHTQHY4BA7EOQQO&marketplace=FLIPKART&pageUID=1698588694429\n",
      "https://dl.flipkart.com/s/3lRuabNNNN\n",
      "https://www.flipkart.com/man-matters-dht-blocker-anti-hair-fall-shampoo-biotin-caffeine-argan-oil-saw-palmetto/p/itma97574a6d9e22?pid=SMPG23CHHTQHY4BA&lid=LSTSMPG23CHHTQHY4BA7EOQQO&marketplace=FLIPKART&pageUID=1698588694429\n",
      "https://www.flipkart.com/woodland-sneakers-men/p/itmd81343604c1bb?pid=SHOGQZYF6HJQ5FV4&lid=LSTSHOGQZYF6HJQ5FV4GKTWTV&marketplace=FLIPKART&q=woodland%20shoes%20for%20men&sattr[]=color&st=color\n",
      "https://www.flipkart.com/bata-lace-up-men/p/itma66cbbc734cdc?pid=SHOGGZ74FPWWGJFZ&lid=LSTSHOGGZ74FPWWGJFZFXQHU3&marketplace=FLIPKART&q=formal+shoes+for+men&store=osp%2Fcil%2Fssb&srno=s_1_25&otracker=AS_QueryStore_OrganicAutoSuggest_1_12_na_na_na&otracker1=AS_QueryStore_OrganicAutoSuggest_1_12_na_na_na&fm=Search&iid=807421fd-e0e7-4c04-b547-0919ab3c72d1.SHOGGZ74FPWWGJFZ.SEARCH&ppt=sp&ppn=sp&qH=1ba3a9913dd73560\n",
      "https://www.flipkart.com/bata-sa-05-derby-men/p/itm25b61e9491a4f?pid=SHOGDGMMVCYXM6YF&lid=LSTSHOGDGMMVCYXM6YFUTU9WL&marketplace=FLIPKART&q=formal+shoes+for+men&store=osp%2Fcil%2Fssb&srno=s_1_35&otracker=AS_QueryStore_OrganicAutoSuggest_1_12_na_na_na&otracker1=AS_QueryStore_OrganicAutoSuggest_1_12_na_na_na&fm=Search&iid=807421fd-e0e7-4c04-b547-0919ab3c72d1.SHOGDGMMVCYXM6YF.SEARCH&ppt=sp&ppn=sp&qH=1ba3a9913dd73560\n",
      "https://www.flipkart.com/bata-lace-up-men/p/itmcfcbfddde3f16?pid=SHOGGFFUGMQBJZQH&lid=LSTSHOGGFFUGMQBJZQHN80IGB&marketplace=FLIPKART&q=formal+shoes+for+men&store=osp%2Fcil%2Fssb&spotlightTagId=BestsellerId_osp%2Fcil%2Fssb&srno=s_1_7&otracker=AS_QueryStore_HistoryAutoSuggest_6_0_na_na_na&otracker1=AS_QueryStore_HistoryAutoSuggest_6_0_na_na_na&fm=search-autosuggest&iid=52f9eae6-a188-478e-b068-a6e9ca15b705.SHOGGFFUGMQBJZQH.SEARCH&ppt=sp&ppn=sp&ssid=uxkmkks3f40000001699377901548&qH=1ba3a9913dd73560\n",
      "https://www.flipkart.com/bata-lace-up-men/p/itm3b2932e178316?pid=SHOGJSA4DSQHBQNK&lid=LSTSHOGJSA4DSQHBQNKI85G5U&marketplace=FLIPKART&q=formal+shoes+for+men&store=osp%2Fcil%2Fssb&spotlightTagId=BestsellerId_osp%2Fcil%2Fssb&srno=s_1_3&otracker=AS_QueryStore_HistoryAutoSuggest_6_0_na_na_na&otracker1=AS_QueryStore_HistoryAutoSuggest_6_0_na_na_na&fm=search-autosuggest&iid=52f9eae6-a188-478e-b068-a6e9ca15b705.SHOGJSA4DSQHBQNK.SEARCH&ppt=sp&ppn=sp&ssid=uxkmkks3f40000001699377901548&qH=1ba3a9913dd73560\n",
      "https://www.indiansexstories2.net/series/brutal-brothers/\n",
      "https://www.amazon.in/hz/wishlist/dl/invite/7bJ0QOh?ref_=wl_share\n",
      "https://dl.flipkart.com/s/CmsL9YNNNN\n",
      "https://amzn.eu/d/1Tlb4cJ\n",
      "https://chat.whatsapp.com/IAM2fp4IoLiGbuI6ZeNfzH\n",
      "https://fellowship.mlh.io/\n",
      "https://www.campusshoes.com/products/chatter-d-gry-d-grn-mens-sports-shoes?utm_content=ASC_Ad_Set&utm_source=Meta&variant=48014090961127&utm_medium=cpc&utm_campaign=30749_198252_192486_195215_Campus_FB+%26+Insta_Auction_conversions_Campus-BAU+ASC+Catalogue+Sales+campaign_10+August+2023_30+September+2023&utm_id=23857636598350249&utm_term=23857636598370249&fbclid=PAAaavjMTYZK3IqPTrOY20fRq5ok6OE3H9nz1C8KYJvSpN-cbre9pUvdqUYSY_aem_AYGF4XP-ZZAui8YPpB5W1nCAac9-4lkIfCpD4_cp2-T0mEIruivHLdQ8sMp2rw42C_dhM7LEEEEG3DTI70wL3Ecx\n",
      "https://www.reddit.com/r/sunraybee/s/fWOQQpWuiB\n",
      "https://drive.google.com/drive/folders/1bwIp_s7RN9bkDm5YRWriHf_jMZn2-L5P\n",
      "https://youtube.com/playlist?list=PL_QZS3L94wpeHN9TKKee7Jkuw2QaSIXOz&si=uG5rBA2r9SYADeCU\n",
      "https://erp.aktu.ac.in/WebPages/Examination/UG/ExamForm.aspx?enc=9RU1fjBtj2qz0BczUcLKb67dJE98ADXuidEYMWDVvi7ym706Pw/voEAmaG57CMYo6CmKn/U78JEYOne9S7wXxA==\n",
      "https://youtu.be/I7-YFc6TXLI?si=oC9Qf7dAgvTVPp0Q\n",
      "https://youtu.be/TZOmoxy8uiY?si=0NAkpnRg2EulhO93\n",
      "https://youtu.be/TUp-Oq2_b74?si=qLE0ckGJ3xxfyAvY\n",
      "https://forms.gle/71RhhkeZW52y3ewn7\n",
      "https://youtu.be/eJLyjJVctrg?si=GTwhH_8lZziZR7ZS\n",
      "https://youtube.com/playlist?list=PLz8TdOA7NTzToibk7WXtD5qvBMnkZkwh7&si=SeGB0cv7NXMyj_0W\n",
      "https://dl.flipkart.com/s/j3I_NtuuuN\n",
      "https://dl.flipkart.com/s/MpfwdZNNNN\n",
      "https://www.investorgain.com/gmp/vibhor-steel-tubes-ipo-gmp/770/\n",
      "https://www.instagram.com/reel/C26f-YdIs8L/?igsh=cWRnbDhxZzNqYW5y\n",
      "https://www.chittorgarh.com/ipo_subscription/vibhor-steel-tubes-ipo/1646/\n",
      "https://www.bseindia.com/investors/appli_check.aspx\n",
      "https://youtu.be/g67IL4mbuFY?si=20GrfhUKdywU7-mU\n",
      "https://www.reddit.com/r/t5_ahkev9/s/igOhMFfNKQ\n",
      "https://www.reddit.com/r/nationalMutthalAllian/s/Lf6Z9J8rQf\n",
      "https://chat.whatsapp.com/LP73YEfszGfJLysR49uQHI\n",
      "https://maps.google.com/?q=26.8493142,80.9312367\n",
      "https://www.reddit.com/r/IndianStreetBets/s/XBdbsdpEOT\n",
      "https://chat.openai.com/share/daa263ff-779d-48cb-b30a-bc2383487fd8\n",
      "https://youtube.com/playlist?list=PLObaOg1On-mUwLEfvAenBr51G5QLdKg9d&si=iXIEGRGPwwODN4MV\n",
      "https://prmovies.town/madgaon-express-2024-Watch-online-full-movie/\n",
      "https://prmovies.town/panchayat-2024-season-3-amazon-prime-Watch-online-full-movie/\n",
      "https://youtube.com/playlist?list=PLDt-fuLi9lO9cej3TpU6_umkt_KSM8H7b&si=JPI7IFhofhutRhJK\n",
      "https://youtu.be/pyD-YCGBMas?si=oHhbGj-Ffs6zF1L_\n",
      "https://prmovies.show/gullak-2024-season-4-tvf-originals-Watch-online-full-movie/\n",
      "https://prmovies.show/?s=gullak\n",
      "https://youtube.com/playlist?list=PLUwI7zx-CMG1_kNkWrryGnXRdw59_hgBO&si=tf4dN6dJd6LG6sSr\n",
      "https://youtube.com/playlist?list=PLV8vIYTIdSnbwIFENjqBK7yyAkSVSoLBC&si=zK8Kfwc9etCKLxfG\n",
      "https://prmovies.show/khuda-haafiz-chapter-2-agni-pariksha-2022-Watch-online-full-movie/\n",
      "https://www.amazon.in/gp/product/B0BXT1HKF4/ref=ox_sc_act_title_1?smid=A1R97E9XXQGLBH&psc=1\n",
      "https://bollyflix.band/jamtara-sabka-number-ayega-hindi-netflix-web-series/\n",
      "https://mckinleyrice.com/\n",
      "https://forms.gle/H1ti6cwbcgDuXqbu9\n"
     ]
    }
   ],
   "source": [
    "custom_display(\"Total active users: \"+ str(total_active_users))\n",
    "custom_display(\"Total messages: \"+ str(total_msgs))\n",
    "custom_display(\"Total medias shared: \"+ str(total_medias))\n",
    "custom_display(\"Total  hyper links: \"+ str(len(hyper_links)))\n",
    "# uncomment the following lines to get the hyper links\n",
    "for link in hyper_links:\n",
    "    print(link)"
   ]
  },
  {
   "cell_type": "code",
   "execution_count": 24,
   "metadata": {},
   "outputs": [
    {
     "name": "stderr",
     "output_type": "stream",
     "text": [
      "C:\\Users\\lenovo\\AppData\\Local\\Temp\\ipykernel_7108\\2868990995.py:3: FutureWarning: Calling int on a single element Series is deprecated and will raise a TypeError in the future. Use int(ser.iloc[0]) instead\n",
      "  user_id = int(users_df[users_df['user'] == user_name]['id'])\n"
     ]
    }
   ],
   "source": [
    "user_contents = []\n",
    "for user_name in users_df['user']:\n",
    "    user_id = int(users_df[users_df['user'] == user_name]['id'])\n",
    "    if user_name[0] == '+':\n",
    "        user_name = '\\u202a\\\\' +  user_name + '\\u202c'\n",
    "    else:\n",
    "        user_name = get_regex_user_name(user_name)\n",
    "    user_name = user_name.replace('(','\\(').replace(')', '\\)')\n",
    "    contents = []\n",
    "    if is_iphone:\n",
    "        contents = re.findall(r''+user_name+ ':((?:.*?\\r?\\n?)*)(\\[)', data)\n",
    "    else:\n",
    "        pattern = re.compile(r\"\"+user_name+r\": (.*?)(?=^[0-9]{2}/[0-9]{2}/[0-9]{2})\",re.DOTALL|re.MULTILINE)\n",
    "        contents = re.findall(pattern,data)\n",
    "#         contents = re.findall(r''+user_name+ ':(.*)', data)\n",
    "    for content in contents:\n",
    "        if is_iphone:\n",
    "            content = content[0]\n",
    "        if len(content.strip()) > 0:\n",
    "            user_contents.append([user_id, content.strip()])"
   ]
  },
  {
   "cell_type": "code",
   "execution_count": 25,
   "metadata": {
    "colab": {
     "base_uri": "https://localhost:8080/",
     "height": 204
    },
    "colab_type": "code",
    "id": "03VWrZAEQ7xv",
    "outputId": "e603e244-cdc5-42b3-c40b-ece733732ffd"
   },
   "outputs": [
    {
     "data": {
      "text/html": [
       "<div>\n",
       "<style scoped>\n",
       "    .dataframe tbody tr th:only-of-type {\n",
       "        vertical-align: middle;\n",
       "    }\n",
       "\n",
       "    .dataframe tbody tr th {\n",
       "        vertical-align: top;\n",
       "    }\n",
       "\n",
       "    .dataframe thead th {\n",
       "        text-align: right;\n",
       "    }\n",
       "</style>\n",
       "<table border=\"1\" class=\"dataframe\">\n",
       "  <thead>\n",
       "    <tr style=\"text-align: right;\">\n",
       "      <th></th>\n",
       "      <th>user_id</th>\n",
       "      <th>message</th>\n",
       "      <th>message_length</th>\n",
       "    </tr>\n",
       "  </thead>\n",
       "  <tbody>\n",
       "  </tbody>\n",
       "</table>\n",
       "</div>"
      ],
      "text/plain": [
       "Empty DataFrame\n",
       "Columns: [user_id, message, message_length]\n",
       "Index: []"
      ]
     },
     "execution_count": 25,
     "metadata": {},
     "output_type": "execute_result"
    }
   ],
   "source": [
    "content_df = pd.DataFrame(user_contents,  columns=['user_id', 'message'])\n",
    "content_df['message_length'] = content_df['message'].apply(lambda x: len(x))\n",
    "content_df.head()"
   ]
  },
  {
   "cell_type": "code",
   "execution_count": 27,
   "metadata": {
    "colab": {},
    "colab_type": "code",
    "id": "3py7L-5rSDLd"
   },
   "outputs": [
    {
     "ename": "ValueError",
     "evalue": "max() arg is an empty sequence",
     "output_type": "error",
     "traceback": [
      "\u001b[1;31m---------------------------------------------------------------------------\u001b[0m",
      "\u001b[1;31mValueError\u001b[0m                                Traceback (most recent call last)",
      "Cell \u001b[1;32mIn[27], line 1\u001b[0m\n\u001b[1;32m----> 1\u001b[0m long_content \u001b[38;5;241m=\u001b[39m content_df[content_df\u001b[38;5;241m.\u001b[39mmessage_length \u001b[38;5;241m==\u001b[39m \u001b[38;5;28;43mmax\u001b[39;49m\u001b[43m(\u001b[49m\u001b[43mcontent_df\u001b[49m\u001b[38;5;241;43m.\u001b[39;49m\u001b[43mmessage_length\u001b[49m\u001b[43m)\u001b[49m]\n\u001b[0;32m      2\u001b[0m longest_message \u001b[38;5;241m=\u001b[39m long_content[\u001b[38;5;124m'\u001b[39m\u001b[38;5;124mmessage\u001b[39m\u001b[38;5;124m'\u001b[39m]\u001b[38;5;241m.\u001b[39mtolist()[\u001b[38;5;241m0\u001b[39m]\n\u001b[0;32m      3\u001b[0m user_name \u001b[38;5;241m=\u001b[39m users_df[users_df[\u001b[38;5;124m'\u001b[39m\u001b[38;5;124mid\u001b[39m\u001b[38;5;124m'\u001b[39m] \u001b[38;5;241m==\u001b[39m \u001b[38;5;28mint\u001b[39m(long_content[\u001b[38;5;124m'\u001b[39m\u001b[38;5;124muser_id\u001b[39m\u001b[38;5;124m'\u001b[39m])][\u001b[38;5;124m'\u001b[39m\u001b[38;5;124muser\u001b[39m\u001b[38;5;124m'\u001b[39m]\u001b[38;5;241m.\u001b[39mtolist()[\u001b[38;5;241m0\u001b[39m]\n",
      "\u001b[1;31mValueError\u001b[0m: max() arg is an empty sequence"
     ]
    }
   ],
   "source": [
    "long_content = content_df[content_df.message_length == max(content_df.message_length)]\n",
    "longest_message = long_content['message'].tolist()[0]\n",
    "user_name = users_df[users_df['id'] == int(long_content['user_id'])]['user'].tolist()[0]\n",
    "# custom_display(\"User X \" + \" wrote the longest message with \" + str(len(longest_message.split()))+\" words \\n\"+ '====='*20+ '\\n')\n",
    "custom_display(user_name + \" wrote the longest message with \" + str(len(longest_message.split()))+\" words \\n\"+ '====='*20+ '\\n')\n",
    "print(longest_message)\n",
    "custom_display('====='*20)"
   ]
  },
  {
   "cell_type": "markdown",
   "metadata": {
    "colab_type": "text",
    "id": "9F8pHmo9ZqAc"
   },
   "source": [
    "## Word Cloud"
   ]
  },
  {
   "cell_type": "code",
   "execution_count": 28,
   "metadata": {
    "colab": {},
    "colab_type": "code",
    "id": "t3o-VSiZa4Fa"
   },
   "outputs": [],
   "source": [
    "english_words = set(stopwords.words('english'))\n",
    "content_df['message_modified'] = content_df['message'].apply(lambda txt: ' '.join(t for t in txt.lower().strip().split() if t not in english_words))\n",
    "word_cloud_text = ' '.join(content_df['message_modified']) # ' '.join(content_df['message_modified'].apply(lambda x: ''.join(x).strip()).tolist())\n",
    "# word_cloud_text = str(word_cloud_text.encode('ascii','ignore'))"
   ]
  },
  {
   "cell_type": "code",
   "execution_count": 29,
   "metadata": {},
   "outputs": [
    {
     "ename": "ValueError",
     "evalue": "We need at least 1 word to plot a word cloud, got 0.",
     "output_type": "error",
     "traceback": [
      "\u001b[1;31m---------------------------------------------------------------------------\u001b[0m",
      "\u001b[1;31mValueError\u001b[0m                                Traceback (most recent call last)",
      "Cell \u001b[1;32mIn[29], line 2\u001b[0m\n\u001b[0;32m      1\u001b[0m \u001b[38;5;66;03m#works well for english words\u001b[39;00m\n\u001b[1;32m----> 2\u001b[0m wordcloud \u001b[38;5;241m=\u001b[39m \u001b[43mWordCloud\u001b[49m\u001b[43m(\u001b[49m\u001b[43mwidth\u001b[49m\u001b[38;5;241;43m=\u001b[39;49m\u001b[38;5;241;43m800\u001b[39;49m\u001b[43m,\u001b[49m\u001b[43m \u001b[49m\u001b[43mheight\u001b[49m\u001b[38;5;241;43m=\u001b[39;49m\u001b[38;5;241;43m400\u001b[39;49m\u001b[43m)\u001b[49m\u001b[38;5;241;43m.\u001b[39;49m\u001b[43mgenerate\u001b[49m\u001b[43m(\u001b[49m\u001b[43mword_cloud_text\u001b[49m\u001b[43m)\u001b[49m\n\u001b[0;32m      3\u001b[0m plt\u001b[38;5;241m.\u001b[39mfigure(figsize\u001b[38;5;241m=\u001b[39m(\u001b[38;5;241m18\u001b[39m,\u001b[38;5;241m10\u001b[39m))\n\u001b[0;32m      4\u001b[0m plt\u001b[38;5;241m.\u001b[39mimshow(wordcloud, interpolation\u001b[38;5;241m=\u001b[39m\u001b[38;5;124m'\u001b[39m\u001b[38;5;124mbilinear\u001b[39m\u001b[38;5;124m'\u001b[39m)\n",
      "File \u001b[1;32mF:\\SOFTWARES\\3_Anaconda\\lib\\site-packages\\wordcloud\\wordcloud.py:642\u001b[0m, in \u001b[0;36mWordCloud.generate\u001b[1;34m(self, text)\u001b[0m\n\u001b[0;32m    627\u001b[0m \u001b[38;5;28;01mdef\u001b[39;00m \u001b[38;5;21mgenerate\u001b[39m(\u001b[38;5;28mself\u001b[39m, text):\n\u001b[0;32m    628\u001b[0m \u001b[38;5;250m    \u001b[39m\u001b[38;5;124;03m\"\"\"Generate wordcloud from text.\u001b[39;00m\n\u001b[0;32m    629\u001b[0m \n\u001b[0;32m    630\u001b[0m \u001b[38;5;124;03m    The input \"text\" is expected to be a natural text. If you pass a sorted\u001b[39;00m\n\u001b[1;32m   (...)\u001b[0m\n\u001b[0;32m    640\u001b[0m \u001b[38;5;124;03m    self\u001b[39;00m\n\u001b[0;32m    641\u001b[0m \u001b[38;5;124;03m    \"\"\"\u001b[39;00m\n\u001b[1;32m--> 642\u001b[0m     \u001b[38;5;28;01mreturn\u001b[39;00m \u001b[38;5;28;43mself\u001b[39;49m\u001b[38;5;241;43m.\u001b[39;49m\u001b[43mgenerate_from_text\u001b[49m\u001b[43m(\u001b[49m\u001b[43mtext\u001b[49m\u001b[43m)\u001b[49m\n",
      "File \u001b[1;32mF:\\SOFTWARES\\3_Anaconda\\lib\\site-packages\\wordcloud\\wordcloud.py:624\u001b[0m, in \u001b[0;36mWordCloud.generate_from_text\u001b[1;34m(self, text)\u001b[0m\n\u001b[0;32m    607\u001b[0m \u001b[38;5;250m\u001b[39m\u001b[38;5;124;03m\"\"\"Generate wordcloud from text.\u001b[39;00m\n\u001b[0;32m    608\u001b[0m \n\u001b[0;32m    609\u001b[0m \u001b[38;5;124;03mThe input \"text\" is expected to be a natural text. If you pass a sorted\u001b[39;00m\n\u001b[1;32m   (...)\u001b[0m\n\u001b[0;32m    621\u001b[0m \u001b[38;5;124;03mself\u001b[39;00m\n\u001b[0;32m    622\u001b[0m \u001b[38;5;124;03m\"\"\"\u001b[39;00m\n\u001b[0;32m    623\u001b[0m words \u001b[38;5;241m=\u001b[39m \u001b[38;5;28mself\u001b[39m\u001b[38;5;241m.\u001b[39mprocess_text(text)\n\u001b[1;32m--> 624\u001b[0m \u001b[38;5;28;43mself\u001b[39;49m\u001b[38;5;241;43m.\u001b[39;49m\u001b[43mgenerate_from_frequencies\u001b[49m\u001b[43m(\u001b[49m\u001b[43mwords\u001b[49m\u001b[43m)\u001b[49m\n\u001b[0;32m    625\u001b[0m \u001b[38;5;28;01mreturn\u001b[39;00m \u001b[38;5;28mself\u001b[39m\n",
      "File \u001b[1;32mF:\\SOFTWARES\\3_Anaconda\\lib\\site-packages\\wordcloud\\wordcloud.py:410\u001b[0m, in \u001b[0;36mWordCloud.generate_from_frequencies\u001b[1;34m(self, frequencies, max_font_size)\u001b[0m\n\u001b[0;32m    408\u001b[0m frequencies \u001b[38;5;241m=\u001b[39m \u001b[38;5;28msorted\u001b[39m(frequencies\u001b[38;5;241m.\u001b[39mitems(), key\u001b[38;5;241m=\u001b[39mitemgetter(\u001b[38;5;241m1\u001b[39m), reverse\u001b[38;5;241m=\u001b[39m\u001b[38;5;28;01mTrue\u001b[39;00m)\n\u001b[0;32m    409\u001b[0m \u001b[38;5;28;01mif\u001b[39;00m \u001b[38;5;28mlen\u001b[39m(frequencies) \u001b[38;5;241m<\u001b[39m\u001b[38;5;241m=\u001b[39m \u001b[38;5;241m0\u001b[39m:\n\u001b[1;32m--> 410\u001b[0m     \u001b[38;5;28;01mraise\u001b[39;00m \u001b[38;5;167;01mValueError\u001b[39;00m(\u001b[38;5;124m\"\u001b[39m\u001b[38;5;124mWe need at least 1 word to plot a word cloud, \u001b[39m\u001b[38;5;124m\"\u001b[39m\n\u001b[0;32m    411\u001b[0m                      \u001b[38;5;124m\"\u001b[39m\u001b[38;5;124mgot \u001b[39m\u001b[38;5;132;01m%d\u001b[39;00m\u001b[38;5;124m.\u001b[39m\u001b[38;5;124m\"\u001b[39m \u001b[38;5;241m%\u001b[39m \u001b[38;5;28mlen\u001b[39m(frequencies))\n\u001b[0;32m    412\u001b[0m frequencies \u001b[38;5;241m=\u001b[39m frequencies[:\u001b[38;5;28mself\u001b[39m\u001b[38;5;241m.\u001b[39mmax_words]\n\u001b[0;32m    414\u001b[0m \u001b[38;5;66;03m# largest entry will be 1\u001b[39;00m\n",
      "\u001b[1;31mValueError\u001b[0m: We need at least 1 word to plot a word cloud, got 0."
     ]
    }
   ],
   "source": [
    "#works well for english words\n",
    "wordcloud = WordCloud(width=800, height=400).generate(word_cloud_text)\n",
    "plt.figure(figsize=(18,10))\n",
    "plt.imshow(wordcloud, interpolation='bilinear')\n",
    "plt.axis(\"off\")\n",
    "plt.show()"
   ]
  },
  {
   "cell_type": "markdown",
   "metadata": {},
   "source": [
    "## Top most commonly used words"
   ]
  },
  {
   "cell_type": "code",
   "execution_count": 30,
   "metadata": {},
   "outputs": [],
   "source": [
    "def replace_multiple_words(text,words_to_be_replaced, replaced_by):\n",
    "    for word in words_to_be_replaced:\n",
    "        text = text.replace(word, \" \"+replaced_by+\" \")\n",
    "    return ' '.join(text.split())"
   ]
  },
  {
   "cell_type": "code",
   "execution_count": 31,
   "metadata": {},
   "outputs": [
    {
     "data": {
      "text/html": [
       "<h2>[]</h2>"
      ],
      "text/plain": [
       "<IPython.core.display.HTML object>"
      ]
     },
     "metadata": {},
     "output_type": "display_data"
    },
    {
     "name": "stdout",
     "output_type": "stream",
     "text": [
      "___________________________________________________________________________________________________________________\n"
     ]
    }
   ],
   "source": [
    "media_types = [\"<media omitted>\", 'image omitted', 'video omitted']\n",
    "whole_text_list = replace_multiple_words(word_cloud_text,media_types, 'forwarded_media').split(' ') #.replace(\"<media omitted>\", \"forwarded_media\").replace('image omitted','forwarded_media').replace('video omitted','forwarded_media').split(' ')\n",
    "whole_text = Counter(whole_text_list)\n",
    "# custom_display(str(whole_text.most_common(10)))\n",
    "most_frequent_words = []\n",
    "for word, count in whole_text.most_common(10):\n",
    "    if len(word) >1:\n",
    "        most_frequent_words.append(word)\n",
    "custom_display(str(most_frequent_words))"
   ]
  },
  {
   "cell_type": "markdown",
   "metadata": {},
   "source": [
    "## Frquency of Medias (Image or Video) sent by users "
   ]
  },
  {
   "cell_type": "code",
   "execution_count": 32,
   "metadata": {
    "colab": {},
    "colab_type": "code",
    "id": "LRq3zAz8WkR5"
   },
   "outputs": [],
   "source": [
    "def get_media_count(user_id):\n",
    "    return content_df[(content_df['user_id'] == user_id) & content_df['message_modified'].str.contains('|'.join(media_types))].shape[0]\n",
    "users_df['total_media_sent'] = [get_media_count(user_id) for user_id in users_df.id.tolist()]"
   ]
  },
  {
   "cell_type": "code",
   "execution_count": 33,
   "metadata": {},
   "outputs": [],
   "source": [
    "temp_users_df = users_df.sort_values(['total_media_sent'], ascending=False)\n",
    "total_medias_sent = users_df.total_media_sent.sum().tolist()"
   ]
  },
  {
   "cell_type": "code",
   "execution_count": 34,
   "metadata": {},
   "outputs": [
    {
     "data": {
      "text/html": [
       "<h2>Total media shared: 0</h2>"
      ],
      "text/plain": [
       "<IPython.core.display.HTML object>"
      ]
     },
     "metadata": {},
     "output_type": "display_data"
    },
    {
     "name": "stdout",
     "output_type": "stream",
     "text": [
      "___________________________________________________________________________________________________________________\n"
     ]
    },
    {
     "name": "stderr",
     "output_type": "stream",
     "text": [
      "C:\\Users\\lenovo\\AppData\\Local\\Temp\\ipykernel_7108\\3431899941.py:3: RuntimeWarning: invalid value encountered in scalar divide\n",
      "  custom_display(temp_users_df['user'].iloc[0] + \" has sent highest number of medias with a count of \"+ str(temp_users_df['total_media_sent'].iloc[0])+ \" medias which is \"+ str(round((users_df['total_media_sent'].iloc[0]/total_medias_sent)*100.0,2))+\"% of the total medias\")\n"
     ]
    },
    {
     "data": {
      "text/html": [
       "<h2>Amit Srm Tab ≧ has sent highest number of medias with a count of 0 medias which is nan% of the total medias</h2>"
      ],
      "text/plain": [
       "<IPython.core.display.HTML object>"
      ]
     },
     "metadata": {},
     "output_type": "display_data"
    },
    {
     "name": "stdout",
     "output_type": "stream",
     "text": [
      "___________________________________________________________________________________________________________________\n"
     ]
    },
    {
     "data": {
      "image/png": "[encoded data removed]",
      "text/plain": [
       "<Figure size 1800x1000 with 1 Axes>"
      ]
     },
     "metadata": {},
     "output_type": "display_data"
    }
   ],
   "source": [
    "custom_display(\"Total media shared: \"+ str(total_medias_sent))\n",
    "#custom_display(\"User X\" + \" has sent highest number of medias with a count of \"+ str(temp_users_df['total_media_sent'].iloc[0])+ \" medias which is \"+ str(round((users_df['total_media_sent'].iloc[0]/total_medias_sent)*100.0,2))+\"% of the total medias\")\n",
    "custom_display(temp_users_df['user'].iloc[0] + \" has sent highest number of medias with a count of \"+ str(temp_users_df['total_media_sent'].iloc[0])+ \" medias which is \"+ str(round((users_df['total_media_sent'].iloc[0]/total_medias_sent)*100.0,2))+\"% of the total medias\")\n",
    "media_count_by_users = temp_users_df.total_media_sent[:number_of_users_to_be_shown].tolist()\n",
    "user_names = temp_users_df.user[:number_of_users_to_be_shown].tolist()\n",
    "# user_names = []\n",
    "# for i in range(number_of_users_to_be_shown):\n",
    "#     user_names.append('user'+str(i))\n",
    "\n",
    "plot_bar_chart(number_of_users_to_be_shown, media_count_by_users, user_names, 'Users Vs Numbers of Media', 'Users', 'Media count', rotation=60)"
   ]
  },
  {
   "cell_type": "markdown",
   "metadata": {
    "colab_type": "text",
    "id": "AR9laGgjAlPe"
   },
   "source": [
    "## Smiley Analysis"
   ]
  },
  {
   "cell_type": "code",
   "execution_count": 35,
   "metadata": {
    "colab": {},
    "colab_type": "code",
    "id": "3ycI25Sx4eQC"
   },
   "outputs": [],
   "source": [
    "smileys = '😀😃😄😁😆😅😂🤣😊😇🙂🙃😉😌😍😘😗😙😚😋😛😝😜🤪🤨🧐🤓😎🤩😏😒😞😔😟😕🙁😣😖😫😩😢😭😤😠😡🤬🤯😳😱😨😰😥😓🤗🤔🤭🤫🤥😶😐😑😬🙄😯😦😧😮😲😴🤤😪😵🤐🤢🤮🤧😷🤒🤕🤑🤠😈👿👹👺🤡💩👻💀☠👽👾🤖🎃😺😸😹😻😼😽🙀😿😾🤲👐🙌👏🤝👍👎👊✊🤛🤜🤞✌🤟👌👈👉👆☝✋🤚🖐🖖👋🤙💪🖕✍🙏💍💄💋👄👅👂👃👣👁👀🧠🗣👤👥👶👧🧒👦👩🧑👨🧔👵🧓👴🙇‍💁‍💁‍🙅‍🙅‍🙆‍🙆‍🙋‍🙋‍🤦‍🤦‍🤷‍🤷‍🙎‍🙎‍🙍‍🙍‍💇‍💇‍💆‍💆‍🧖‍🧖‍💅🤳💃🕺👯‍👯‍🕴🚶‍🚶‍🏃‍🏃‍👫👭👬💑👩‍❤‍👩👨‍❤‍👨💏👩‍💋‍👩👨‍💋‍👪👨‍👩‍👧👨‍👩‍👧‍👦👨‍👩‍👦‍👦👨‍👩‍👧‍👧👩‍👩‍👦👩‍👩‍👧👩‍👩‍👧‍👦👩‍👩‍👦‍👦👩‍👩‍👧‍👧👨‍👨‍👦👨‍👨‍👧👨‍👨‍👧‍👦👨‍👨‍👦‍👦👨‍👨‍👧‍👧👩‍👦👩‍👧👩‍👧‍👦👩‍👦‍👦👩‍👧‍👧👙👑🐶🐵🙈🙉🙊🐒🌹⚽🏋‍🏋‍🤼‍🤼‍❤💔❣🧡💛💚💙💜💕💞💓💗💖💘💝💟✝☪🕉☸✡🔯💯'"
   ]
  },
  {
   "cell_type": "code",
   "execution_count": 36,
   "metadata": {
    "colab": {
     "base_uri": "https://localhost:8080/",
     "height": 1105
    },
    "colab_type": "code",
    "id": "G1pEYzdp3XVC",
    "outputId": "4a22ed03-3ef8-4c43-db4a-9279d6adf088"
   },
   "outputs": [],
   "source": [
    "smiley_data = {}\n",
    "for smiley in smileys:\n",
    "    cnt = len(re.findall(r'' + smiley+ '', data))\n",
    "    if cnt > 0:\n",
    "        smiley_data[smiley]=cnt"
   ]
  },
  {
   "cell_type": "code",
   "execution_count": 37,
   "metadata": {
    "colab": {},
    "colab_type": "code",
    "id": "56FLEApbJ8nY"
   },
   "outputs": [
    {
     "data": {
      "text/html": [
       "<h2>Total smileys sent: 4908</h2>"
      ],
      "text/plain": [
       "<IPython.core.display.HTML object>"
      ]
     },
     "metadata": {},
     "output_type": "display_data"
    },
    {
     "name": "stdout",
     "output_type": "stream",
     "text": [
      "___________________________________________________________________________________________________________________\n"
     ]
    }
   ],
   "source": [
    "ordered_smileys_by_usage_dict = sort_by_values(smiley_data)\n",
    "smileys_count_list = list(ordered_smileys_by_usage_dict.values())\n",
    "total_smileys_used = sum(smileys_count_list)\n",
    "custom_display(\"Total smileys sent: \"+ str(total_smileys_used))"
   ]
  },
  {
   "cell_type": "code",
   "execution_count": 38,
   "metadata": {
    "colab": {
     "base_uri": "https://localhost:8080/",
     "height": 34
    },
    "colab_type": "code",
    "id": "xnimdrCMNGlP",
    "outputId": "48d26d60-7f56-4d02-935a-1776bfc40ed9"
   },
   "outputs": [
    {
     "data": {
      "text/html": [
       "<h2>Top 10 used smileys:</h2>"
      ],
      "text/plain": [
       "<IPython.core.display.HTML object>"
      ]
     },
     "metadata": {},
     "output_type": "display_data"
    },
    {
     "name": "stdout",
     "output_type": "stream",
     "text": [
      "['😂', '🙂', '🤣', '😐', '😶', '💀', '😑', '🤐', '🤡', '😅']\n"
     ]
    },
    {
     "data": {
      "text/html": [
       "<h2>And these smileys constitute 97.0% of the total smileys sent</h2>"
      ],
      "text/plain": [
       "<IPython.core.display.HTML object>"
      ]
     },
     "metadata": {},
     "output_type": "display_data"
    },
    {
     "name": "stdout",
     "output_type": "stream",
     "text": [
      "___________________________________________________________________________________________________________________\n"
     ]
    }
   ],
   "source": [
    "top_n_smileys=10\n",
    "if total_smileys_used > 0:\n",
    "    top_n_smileys_percentage = np.round((sum(smileys_count_list[:top_n_smileys])/total_smileys_used)*100.0)\n",
    "    display(HTML((\"<h2>Top \"+ str(top_n_smileys) + \" used smileys:</h2>\")))\n",
    "    print(list(ordered_smileys_by_usage_dict.keys())[:top_n_smileys])\n",
    "    top_n_smileys_percentage = np.round((sum(smileys_count_list[:top_n_smileys])/total_smileys_used)*100.0)\n",
    "    custom_display(\"And these smileys constitute \" + str(top_n_smileys_percentage)+ \"% of the total smileys sent\")"
   ]
  },
  {
   "cell_type": "code",
   "execution_count": 39,
   "metadata": {
    "colab": {
     "base_uri": "https://localhost:8080/",
     "height": 34
    },
    "colab_type": "code",
    "id": "xJZ7uz-jNyyX",
    "outputId": "beefdcae-0f23-41c2-abe5-292b03f44bfe"
   },
   "outputs": [
    {
     "data": {
      "text/html": [
       "\n",
       "<table style=\"font-family: arial, sans-serif;border-collapse: collapse;width: 100%;\">\n",
       "    <tbody>\n",
       "        <tr>\n",
       "            <th style='border: 1px solid #dddddd;text-align: left;padding: 8px;'>Smiley</th>\n",
       "            <th style='border: 1px solid #dddddd;text-align: left;padding: 8px;'> Percentage </th>\n",
       "        </tr>            \n",
       "<tr><td style='border: 1px solid #dddddd;text-align: left;padding: 8px;'>😂</td><td style='border: 1px solid #dddddd;text-align: left;padding: 8px;'>44.519%</td></tr><tr><td style='border: 1px solid #dddddd;text-align: left;padding: 8px;'>🙂</td><td style='border: 1px solid #dddddd;text-align: left;padding: 8px;'>24.694%</td></tr><tr><td style='border: 1px solid #dddddd;text-align: left;padding: 8px;'>🤣</td><td style='border: 1px solid #dddddd;text-align: left;padding: 8px;'>11.104%</td></tr><tr><td style='border: 1px solid #dddddd;text-align: left;padding: 8px;'>😐</td><td style='border: 1px solid #dddddd;text-align: left;padding: 8px;'>9.067%</td></tr><tr><td style='border: 1px solid #dddddd;text-align: left;padding: 8px;'>😶</td><td style='border: 1px solid #dddddd;text-align: left;padding: 8px;'>3.219%</td></tr><tr><td style='border: 1px solid #dddddd;text-align: left;padding: 8px;'>💀</td><td style='border: 1px solid #dddddd;text-align: left;padding: 8px;'>2.363%</td></tr><tr><td style='border: 1px solid #dddddd;text-align: left;padding: 8px;'>😑</td><td style='border: 1px solid #dddddd;text-align: left;padding: 8px;'>1.141%</td></tr><tr><td style='border: 1px solid #dddddd;text-align: left;padding: 8px;'>🤐</td><td style='border: 1px solid #dddddd;text-align: left;padding: 8px;'>0.509%</td></tr><tr><td style='border: 1px solid #dddddd;text-align: left;padding: 8px;'>🤡</td><td style='border: 1px solid #dddddd;text-align: left;padding: 8px;'>0.428%</td></tr><tr><td style='border: 1px solid #dddddd;text-align: left;padding: 8px;'>😅</td><td style='border: 1px solid #dddddd;text-align: left;padding: 8px;'>0.407%</td></tr></tbody></table>"
      ],
      "text/plain": [
       "<IPython.core.display.HTML object>"
      ]
     },
     "metadata": {},
     "output_type": "display_data"
    }
   ],
   "source": [
    "html_table = \"\"\"\n",
    "<table style=\"font-family: arial, sans-serif;border-collapse: collapse;width: 100%;\">\n",
    "    <tbody>\n",
    "        <tr>\n",
    "            <th style='border: 1px solid #dddddd;text-align: left;padding: 8px;'>Smiley</th>\n",
    "            <th style='border: 1px solid #dddddd;text-align: left;padding: 8px;'> Percentage </th>\n",
    "        </tr>            \n",
    "\"\"\"\n",
    "for smiley in list(ordered_smileys_by_usage_dict.keys())[:top_n_smileys]:\n",
    "    html_table += \"<tr>\"\n",
    "    html_table += \"<td style='border: 1px solid #dddddd;text-align: left;padding: 8px;'>\" + str(smiley) + \"</td>\"\n",
    "    html_table += \"<td style='border: 1px solid #dddddd;text-align: left;padding: 8px;'>\" + str(round((ordered_smileys_by_usage_dict[smiley]/total_smileys_used)*100.0, 3)) + \"%</td>\"\n",
    "    html_table += \"</tr>\"\n",
    "html_table += \"</tbody></table>\"\n",
    "display(HTML(html_table))"
   ]
  },
  {
   "cell_type": "markdown",
   "metadata": {},
   "source": [
    "# Tag analysis"
   ]
  },
  {
   "cell_type": "code",
   "execution_count": 40,
   "metadata": {},
   "outputs": [],
   "source": [
    "tagged_people_count = {} # 'contact_number': count\n",
    "people_who_tags_others = {} # 'contact_number': [contact_number, contact_number]"
   ]
  },
  {
   "cell_type": "code",
   "execution_count": 41,
   "metadata": {},
   "outputs": [],
   "source": [
    "for user_id in users_df.id:\n",
    "    messages = ' '.join(content_df[content_df['user_id'] == user_id]['message_modified'].tolist())\n",
    "    tags = [txt[1:] for txt in re.findall(r'@\\d{8,15}', messages)]\n",
    "    contact_name = users_df[users_df['id'] == user_id]['user'].tolist()[0]\n",
    "    if len(tags) > 0:\n",
    "        tagged_people_count[contact_name] = len(tags)\n",
    "        people_who_tags_others[contact_name] = tags"
   ]
  },
  {
   "cell_type": "code",
   "execution_count": 42,
   "metadata": {},
   "outputs": [],
   "source": [
    "tagged_people_count = sort_by_values(tagged_people_count)\n",
    "total_tag_count = sum(list(tagged_people_count.values()))"
   ]
  },
  {
   "cell_type": "markdown",
   "metadata": {},
   "source": [
    "## Top users who tags others "
   ]
  },
  {
   "cell_type": "code",
   "execution_count": 43,
   "metadata": {},
   "outputs": [],
   "source": [
    "top_users_count = 3\n",
    "html_table = \"\"\"\n",
    "<table style=\"font-family: arial, sans-serif;border-collapse: collapse;width: 100%;\">\n",
    "    <tbody>\n",
    "        <tr>\n",
    "            <th style='border: 1px solid #dddddd;text-align: left;padding: 8px;'>Name</th>\n",
    "            <th style='border: 1px solid #dddddd;text-align: left;padding: 8px;'> Tag count </th>\n",
    "        </tr>            \n",
    "\"\"\"\n",
    "for user_name in list(tagged_people_count.keys())[:top_users_count]:\n",
    "    html_table += \"<tr>\"\n",
    "    html_table += \"<td style='border: 1px solid #dddddd;text-align: left;padding: 8px;'>\" + user_name + \"</td>\"\n",
    "    html_table += \"<td style='border: 1px solid #dddddd;text-align: left;padding: 8px;'>\" + str(tagged_people_count[user_name]) + \" (\"+ str(np.round((tagged_people_count[user_name]/total_tag_count)*100.0, 2))+\"% of total tags)</td>\"\n",
    "    html_table += \"</tr>\"\n",
    "html_table += \"</tbody></table>\"\n",
    "\n",
    "people_who_are_tagged_in_chats = []\n",
    "for key in people_who_tags_others.keys():\n",
    "    people_who_are_tagged_in_chats+= people_who_tags_others[key]"
   ]
  },
  {
   "cell_type": "code",
   "execution_count": 44,
   "metadata": {},
   "outputs": [
    {
     "data": {
      "text/html": [
       "<h2>No one tagged anyone</h2>"
      ],
      "text/plain": [
       "<IPython.core.display.HTML object>"
      ]
     },
     "metadata": {},
     "output_type": "display_data"
    },
    {
     "name": "stdout",
     "output_type": "stream",
     "text": [
      "___________________________________________________________________________________________________________________\n"
     ]
    }
   ],
   "source": [
    "if len(people_who_are_tagged_in_chats) > 0:\n",
    "    tag_count = sort_by_values(Counter(people_who_are_tagged_in_chats))\n",
    "    most_tagged_contact = list(tag_count)[0]\n",
    "\n",
    "    custom_display(\"Total tags: \" + str(total_tag_count))\n",
    "    display(HTML(\"<h3>Top list of users who tags others</h3><br>\" + html_table))\n",
    "    custom_display(str(most_tagged_contact) + \" is the most tagged person with a tag count of \" + str(tag_count[most_tagged_contact]) + \" which is \" + str(np.round((tag_count[most_tagged_contact]/total_tag_count)*100.0, 2)) + \"% of the total tags\" )\n",
    "#     custom_display(\"User X\" + \" is the most tagged person with a tag count of \" + str(tag_count[most_tagged_contact]) + \" which is \" + str(np.round((tag_count[most_tagged_contact]/total_tag_count)*100.0, 2)) + \"% of the total tags\" )\n",
    "else:\n",
    "    custom_display(\"No one tagged anyone\")    "
   ]
  },
  {
   "cell_type": "code",
   "execution_count": null,
   "metadata": {},
   "outputs": [],
   "source": []
  },
  {
   "cell_type": "code",
   "execution_count": null,
   "metadata": {},
   "outputs": [],
   "source": []
  },
  {
   "cell_type": "code",
   "execution_count": null,
   "metadata": {},
   "outputs": [],
   "source": []
  },
  {
   "cell_type": "code",
   "execution_count": null,
   "metadata": {},
   "outputs": [],
   "source": []
  }
 ],
 "metadata": {
  "colab": {
   "collapsed_sections": [],
   "name": "WA_Analysis_.ipynb",
   "provenance": [],
   "version": "0.3.2"
  },
  "kernelspec": {
   "display_name": "Python 3 (ipykernel)",
   "language": "python",
   "name": "python3"
  },
  "language_info": {
   "codemirror_mode": {
    "name": "ipython",
    "version": 3
   },
   "file_extension": ".py",
   "mimetype": "text/x-python",
   "name": "python",
   "nbconvert_exporter": "python",
   "pygments_lexer": "ipython3",
   "version": "3.8.19"
  }
 },
 "nbformat": 4,
 "nbformat_minor": 4
}
